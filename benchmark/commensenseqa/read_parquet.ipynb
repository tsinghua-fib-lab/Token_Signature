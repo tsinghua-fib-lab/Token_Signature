{
 "cells": [
  {
   "cell_type": "code",
   "execution_count": 14,
   "metadata": {},
   "outputs": [
    {
     "name": "stdout",
     "output_type": "stream",
     "text": [
      "                                 id  \\\n",
      "0  1afa02df02c908a558b4036e80242fac   \n",
      "1  a7ab086045575bb497933726e4e6ad28   \n",
      "2  b8c0a4703079cf661d7261a60a1bcbff   \n",
      "3  e68fb2448fd74e402aae9982aa76e527   \n",
      "4  2435de612dd69f2012b9e40d6af4ce38   \n",
      "\n",
      "                                            question question_concept  \\\n",
      "0  A revolving door is convenient for two directi...   revolving door   \n",
      "1                  What do people aim to do at work?           people   \n",
      "2  Where would you find magazines along side many...        magazines   \n",
      "3         Where are  you likely to find a hamburger?        hamburger   \n",
      "4  James was looking for a good place to buy farm...         farmland   \n",
      "\n",
      "                                             choices answerKey  \n",
      "0  {'label': ['A', 'B', 'C', 'D', 'E'], 'text': [...         A  \n",
      "1  {'label': ['A', 'B', 'C', 'D', 'E'], 'text': [...         A  \n",
      "2  {'label': ['A', 'B', 'C', 'D', 'E'], 'text': [...         B  \n",
      "3  {'label': ['A', 'B', 'C', 'D', 'E'], 'text': [...         A  \n",
      "4  {'label': ['A', 'B', 'C', 'D', 'E'], 'text': [...         A  \n",
      "1221\n"
     ]
    }
   ],
   "source": [
    "import pandas as pd\n",
    "\n",
    "# 读取 Parquet 文件   data/test-00000-of-00001.parquet\n",
    "file_path = 'data/validation-00000-of-00001.parquet'\n",
    "df = pd.read_parquet(file_path)\n",
    "\n",
    "# 查看前5行数据\n",
    "print(df.head())\n",
    "\n",
    "# 打印数据的基本信息\n",
    "print(len(df))\n"
   ]
  },
  {
   "cell_type": "code",
   "execution_count": 13,
   "metadata": {},
   "outputs": [
    {
     "name": "stdout",
     "output_type": "stream",
     "text": [
      "{'label': array(['A', 'B', 'C', 'D', 'E'], dtype=object), 'text': array(['bank', 'library', 'department store', 'mall', 'new york'],\n",
      "      dtype=object)}\n",
      "revolving door\n",
      "A revolving door is convenient for two direction travel, but it also serves as a security measure at a what?\n",
      "A\n"
     ]
    }
   ],
   "source": [
    "print(df.iloc[0]['choices'])\n",
    "print(df.iloc[0]['question_concept'])\n",
    "print(df.iloc[0]['question'])\n",
    "print(df.iloc[0]['answerKey'])"
   ]
  }
 ],
 "metadata": {
  "kernelspec": {
   "display_name": "myenv",
   "language": "python",
   "name": "python3"
  },
  "language_info": {
   "codemirror_mode": {
    "name": "ipython",
    "version": 3
   },
   "file_extension": ".py",
   "mimetype": "text/x-python",
   "name": "python",
   "nbconvert_exporter": "python",
   "pygments_lexer": "ipython3",
   "version": "3.12.7"
  }
 },
 "nbformat": 4,
 "nbformat_minor": 2
}
