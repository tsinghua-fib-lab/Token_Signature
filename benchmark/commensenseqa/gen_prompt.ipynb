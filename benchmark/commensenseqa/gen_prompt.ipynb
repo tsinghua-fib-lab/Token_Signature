{
 "cells": [
  {
   "cell_type": "code",
   "execution_count": 3,
   "metadata": {},
   "outputs": [
    {
     "name": "stdout",
     "output_type": "stream",
     "text": [
      "转换完成！\n"
     ]
    }
   ],
   "source": [
    "import json\n",
    "\n",
    "# 输入和输出文件的路径\n",
    "input_file = 'official_data/dev_rand_split.jsonl'   # 输入的jsonl文件路径\n",
    "output_file = 'data.jsonl' # 输出的jsonl文件路径\n",
    "\n",
    "# 打开输入文件和输出文件\n",
    "with open(input_file, 'r', encoding='utf-8') as infile, open(output_file, 'w', encoding='utf-8') as outfile:\n",
    "    # 遍历每一行\n",
    "    for line in infile:\n",
    "        # 解析每一行的JSON对象\n",
    "        data = json.loads(line)\n",
    "        \n",
    "        # 获取题干 (stem)\n",
    "        stem = data['question']['stem']\n",
    "        \n",
    "        # 获取所有选项 (choices)\n",
    "        choices = data['question']['choices']\n",
    "        \n",
    "        # 创建一个包含所有选项的拼接结果\n",
    "        prompt = stem+' Please select the most correct option from the following options. \\n\\n'\n",
    "        for choice in choices:\n",
    "            label = choice['label']\n",
    "            text = choice['text']\n",
    "            prompt += f\" ({label}): {text} \\n\"\n",
    "            if data['answerKey']==label:\n",
    "                answer_content=text\n",
    "        \n",
    "        # 创建新的字典，包含新的prompt和答案\n",
    "        output_data = {\n",
    "            'question': prompt,\n",
    "            'answer': data['answerKey'],\n",
    "            'answercontent':answer_content\n",
    "        }\n",
    "        \n",
    "        # 将新的字典写入输出文件\n",
    "        outfile.write(json.dumps(output_data, ensure_ascii=False) + '\\n')\n",
    "\n",
    "print(\"转换完成！\")"
   ]
  }
 ],
 "metadata": {
  "kernelspec": {
   "display_name": "myenv",
   "language": "python",
   "name": "python3"
  },
  "language_info": {
   "codemirror_mode": {
    "name": "ipython",
    "version": 3
   },
   "file_extension": ".py",
   "mimetype": "text/x-python",
   "name": "python",
   "nbconvert_exporter": "python",
   "pygments_lexer": "ipython3",
   "version": "3.12.7"
  }
 },
 "nbformat": 4,
 "nbformat_minor": 2
}
