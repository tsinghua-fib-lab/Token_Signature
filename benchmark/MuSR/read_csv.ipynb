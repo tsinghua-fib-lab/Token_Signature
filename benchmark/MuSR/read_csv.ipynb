{
 "cells": [
  {
   "cell_type": "code",
   "execution_count": 1,
   "metadata": {},
   "outputs": [
    {
     "name": "stdout",
     "output_type": "stream",
     "text": [
      "Index(['narrative', 'question', 'choices', 'answer_index', 'answer_choice'], dtype='object')\n"
     ]
    }
   ],
   "source": [
    "import pandas as pd\n",
    "\n",
    "df = pd.read_csv('all.csv')\n",
    "\n",
    "\n",
    "print(df.columns)\n"
   ]
  },
  {
   "cell_type": "code",
   "execution_count": 2,
   "metadata": {},
   "outputs": [
    {
     "name": "stdout",
     "output_type": "stream",
     "text": [
      "列名: narrative, 值: In an adrenaline inducing bungee jumping site, Mack's thrill-seeking adventure came to a gruesome end by a nunchaku; now, it's up to Detective Winston to unravel the deadly secrets between Mackenzie and Ana.\n",
      "\n",
      "Winston took a gulp of his black coffee, staring at the notes sprawled across his desk. A murder case at a bungee jumping site was definitely out of the ordinary. Today's victim was a young man named Mack, loud mouthed and cocky by all accounts. \n",
      "\n",
      "Mack was bungee jumping the day he was killed. Oddly enough, according to the records, no one else was documented at the bungee jumping site that day, making this case even more peculiar. The first stop for the day was to visit one of Mack's housemates, a woman named Ana. They were seen leaving in the same vehicle from their shared housing complex the morning of the murder, and it was time for Winston to dig deeper. \n",
      "\n",
      "As he pulled into the shared housing driveway, a nondescript car came into sight. He learned from neighbours that it was frequently used by multiple residents, but Ana had a peculiar interest in it. She would insist on driving whenever with a group of friends, later meticulously cleaning the car after each use. An idiosyncrasy of hers maybe, but a part of the puzzle nonetheless.\n",
      "\n",
      "Winston knocked on the door, Ana opened it warily, twiddling a cleaning cloth and spray in her hands and greeted him with a nervous nod. Ana gets nervous and fidgets with the cleaner and cloth when questioned. Winston could sense palpable unease as he started asking her questions.\n",
      "\n",
      "\"Ana, did you not join Mack and the others for bungee jumping today?\" Winston questioned, to which she responded, \"I signed up to jump. But I didn't end up going through with it.\"\n",
      "\n",
      "\"Any particular reason you didn't join the others, Ana?\" Winston proceeded. \n",
      "\n",
      "Ana took a deep breath, \"Well sir, my faith doesn't really permit bungee jumping. Truth be told, I was persuaded strongly by Mack. I had even signed up out of peer pressure but couldn't push myself.\"\n",
      "\n",
      "It was true – Mack was insisting that everyone in the group should bungee jump. Mack had reportedly also been vocal about ridiculing Ana’s faith, even encouraging others to join him in doing so. It was a significant factor in their relationship.\n",
      "\n",
      "\"Ana, did you and Mack leave in the same car for the bungee jumping event this morning?\" Winston gently pushed further.\n",
      "\n",
      "\"Yes. Yes, we did. We always carpool.\" She responded while anxiously using the cleaner and cloth on her car’s dashboard. Her eyes flickered nervously back to Winston, expecting the next question.\n",
      "\n",
      "Winston took a deep breath, standing up to leave, \"Alright Ana, that should cover everything for now. We'll be in touch.\"\n",
      "\n",
      "Ana nervously nodded without looking up from her cleaning, wringing the cloth repeatedly as Winston walked away, left again with another piece to the enigmatic puzzle of Mack's murder.\n",
      "\n",
      "The day was getting older and Winston was getting more tired, but the case was fresh, and he wasn't one to back down. He tugged on his coat as he approached the bashful teen waiting for him by the police station.\n",
      "\n",
      "\"Mackenzie, it is?\" he asked, extending his hand.\n",
      "\n",
      "\"Yeah, that's right.\" The slight lisp, overlaid with blanket anxiety, confirmed what the school reports suggested.\n",
      "\n",
      "\"You were at the site when Mack... erm... you know,\" Winston's voice was methodical, calm -- almost robotic. The suspicion on Mackenzie was not unfounded - the security cameras showed him buying nunchaku a week before. \n",
      "\n",
      "Mackenzie shifted on his feet, looking away before answering, \"Yeah, I was there.\"\n",
      "\n",
      "Winston pulled out a small notebook, \"What were you doing there, Mackenzie?”\n",
      "\n",
      "“Bungee jumping, like Mack… Then I left. I didn't... I didn't do anything…” Mackenzie replied.\n",
      "\n",
      "Internally, Winston sighed at the never-ending waterfall of teenage angst this case was turning into. \n",
      "\n",
      "“Martial arts, huh?” Winston segued, gesturing to a bruise on Mackenzie’s knuckles. “Nunchaku particularly, I see? Training does include the use of those, correct?” \n",
      "\n",
      "The change in Mackenzie’s demeanor mirrored the bitterness in the last month’s weather – dark eyes replaced with ice-cold ones. “Yeah,” he admitted, shrinking slightly.\n",
      "\n",
      "Mackenzie always took pride in being the best at everything. So when Mack got everything he wanted - the promotion to team captain, the respect, the attention - it was a hard pill for Mackenzie to swallow. Winston remembered the team talk, Mackenzie was indeed the top candidate but it had gone to Mack instead. \n",
      "\n",
      "What clinched it was Mackenzie’s remarks about Mack, echoing whispers of dispute and bickering, lost in the crowded lunchroom. There were also multiple witness reports of the two seen arguing at the bungee jumping site previously. Mackenzie had indeed said disparaging, almost emotional things about Mack – all stemming from a potent brew of jealousy, Winston inferred.\n",
      "\n",
      "Shifting later through the detritus of Mackenzie's life, Winston discovered the nunchaku that matched the forensics report. They were tucked away, but the layer of dust suggested they weren't a favored possession anymore. It wasn’t hidden, it was misplaced – discarded in the throes of developing maturity.\n",
      "\n",
      "As the sun started to set, Winston could see witnesses, scattered across the park, repeatedly pointing to the bungee jumping scaffolding. It occurred to him, then, the narrative of the past days. Mackenzie, jealous and wronged, over and over, at the same sight. It was quite a sight. \n",
      "\n",
      "Winston, shuffling back to the station, was left with one thought - Looks like Mackenzie had quite an eventful week.\n",
      "列名: question, 值: Who is the most likely murderer?\n",
      "列名: choices, 值: ['Mackenzie', 'Ana']\n",
      "列名: answer_index, 值: 0\n",
      "列名: answer_choice, 值: Mackenzie\n"
     ]
    }
   ],
   "source": [
    "# 获取第一行数据\n",
    "first_row = df.iloc[0]\n",
    "\n",
    "# 打印第一行数据及其对应的列名\n",
    "for column, value in first_row.items():\n",
    "    print(f\"列名: {column}, 值: {value}\")"
   ]
  }
 ],
 "metadata": {
  "kernelspec": {
   "display_name": "myenv",
   "language": "python",
   "name": "python3"
  },
  "language_info": {
   "codemirror_mode": {
    "name": "ipython",
    "version": 3
   },
   "file_extension": ".py",
   "mimetype": "text/x-python",
   "name": "python",
   "nbconvert_exporter": "python",
   "pygments_lexer": "ipython3",
   "version": "3.12.7"
  }
 },
 "nbformat": 4,
 "nbformat_minor": 2
}
