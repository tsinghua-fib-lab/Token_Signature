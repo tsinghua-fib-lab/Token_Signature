{
 "cells": [
  {
   "cell_type": "code",
   "execution_count": 4,
   "metadata": {},
   "outputs": [],
   "source": [
    "import csv\n",
    "import json\n",
    "\n",
    "# 打开all.csv文件进行读取\n",
    "with open('all.csv', 'r', encoding='utf-8') as csv_file:\n",
    "    csv_reader = csv.DictReader(csv_file)\n",
    "    \n",
    "    # 打开data.jsonl文件进行写入\n",
    "    with open('data.jsonl', 'w', encoding='utf-8') as jsonl_file:\n",
    "        for row in csv_reader:\n",
    "            narrative = row['narrative']\n",
    "            question = row['question']\n",
    "            choices_str = row['choices']\n",
    "            answer_index = int(row['answer_index'])\n",
    "            \n",
    "            # 解析choices字段，假设它是一个合法的Python列表字符串\n",
    "            choices = eval(choices_str)\n",
    "            \n",
    "            # 构造question字段\n",
    "            # 拼接选项部分\n",
    "            options_text = ' '.join([f\"({chr(65 + i)}): {choices[i]}\\n\" for i in range(len(choices))])\n",
    "            \n",
    "            question_text = f\"You are given the following narrative:\\n{narrative}\\nBased on the narrative above, please answer the question below:\\n{question}\\nPlease select the most correct option from the options provided. {options_text}\"\n",
    "            \n",
    "            # 选择正确的答案选项\n",
    "            answer_choices = ['A', 'B', 'C', 'D', 'E']\n",
    "            answer = answer_choices[answer_index]\n",
    "            answerkey=row['answer_choice']\n",
    "            # 构造json对象\n",
    "            output_data = {\n",
    "                \"question\": question_text,\n",
    "                \"answer\": answer,\n",
    "                \"answercontent\":answerkey\n",
    "            }\n",
    "            \n",
    "            # 写入jsonl文件，每行一个JSON对象\n",
    "            jsonl_file.write(json.dumps(output_data, ensure_ascii=False) + '\\n')\n"
   ]
  }
 ],
 "metadata": {
  "kernelspec": {
   "display_name": "myenv",
   "language": "python",
   "name": "python3"
  },
  "language_info": {
   "codemirror_mode": {
    "name": "ipython",
    "version": 3
   },
   "file_extension": ".py",
   "mimetype": "text/x-python",
   "name": "python",
   "nbconvert_exporter": "python",
   "pygments_lexer": "ipython3",
   "version": "3.12.7"
  }
 },
 "nbformat": 4,
 "nbformat_minor": 2
}
