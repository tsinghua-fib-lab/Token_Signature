{
 "cells": [
  {
   "cell_type": "code",
   "execution_count": 4,
   "metadata": {},
   "outputs": [],
   "source": [
    "import pandas as pd\n",
    "import json\n",
    "\n",
    "# 读取 CSV 文件\n",
    "df = pd.read_csv('gpqa_main.csv')\n",
    "\n",
    "# 打开输出文件 data.jsonl\n",
    "with open('data.jsonl', 'w') as jsonl_file:\n",
    "    # 遍历 DataFrame 的每一行\n",
    "    for _, row in df.iterrows():\n",
    "        # 构造 question 字段\n",
    "        question = f\" {row['Question']} Please select the most correct option from the options provided. \\n(A): {row['Correct Answer']}\\n(B): {row['Incorrect Answer 1']}\\n(C): {row['Incorrect Answer 2']}\\n(D): {row['Incorrect Answer 3']}\\n\\n\"\n",
    "        \n",
    "        # answer 是 'A'（正确答案）\n",
    "        answer = 'A'\n",
    "        \n",
    "        # 构造字典\n",
    "        data = {\n",
    "            \"question\": question,\n",
    "            \"answer\": answer\n",
    "        }\n",
    "        \n",
    "        # 将字典写入 JSONL 文件\n",
    "        jsonl_file.write(json.dumps(data) + '\\n')\n"
   ]
  }
 ],
 "metadata": {
  "kernelspec": {
   "display_name": "myenv",
   "language": "python",
   "name": "python3"
  },
  "language_info": {
   "codemirror_mode": {
    "name": "ipython",
    "version": 3
   },
   "file_extension": ".py",
   "mimetype": "text/x-python",
   "name": "python",
   "nbconvert_exporter": "python",
   "pygments_lexer": "ipython3",
   "version": "3.12.7"
  }
 },
 "nbformat": 4,
 "nbformat_minor": 2
}
