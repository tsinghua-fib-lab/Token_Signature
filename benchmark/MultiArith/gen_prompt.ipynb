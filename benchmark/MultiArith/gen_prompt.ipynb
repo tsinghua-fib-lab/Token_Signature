{
 "cells": [
  {
   "cell_type": "code",
   "execution_count": 2,
   "metadata": {},
   "outputs": [
    {
     "name": "stdout",
     "output_type": "stream",
     "text": [
      "数据已成功写入 data.jsonl\n"
     ]
    }
   ],
   "source": [
    "import json\n",
    "\n",
    "# from https://huggingface.co/datasets/ChilleD/MultiArith\n",
    "test_file = \"test.json\"\n",
    "train_file = \"train.json\"\n",
    "\n",
    "# 输出文件名\n",
    "output_file = \"data.jsonl\"\n",
    "\n",
    "# 初始化存储数据的列表\n",
    "data = []\n",
    "\n",
    "# 合并处理数据\n",
    "for file_name in [test_file, train_file]:\n",
    "    try:\n",
    "        with open(file_name, 'r', encoding='utf-8') as file:\n",
    "            content = json.load(file)\n",
    "            for item in content:\n",
    "                # 转换为 {'question': ..., 'answer': ...} 格式\n",
    "                data.append({'question': item['question'], 'answer': item['final_ans']})\n",
    "    except FileNotFoundError:\n",
    "        print(f\"文件 {file_name} 未找到，跳过。\")\n",
    "\n",
    "# 写入 .jsonl 文件\n",
    "with open(output_file, 'w', encoding='utf-8') as file:\n",
    "    for entry in data:\n",
    "        # 每一行为一个JSON对象\n",
    "        json.dump(entry, file, ensure_ascii=False)\n",
    "        file.write('\\n')\n",
    "\n",
    "print(f\"数据已成功写入 {output_file}\")\n"
   ]
  }
 ],
 "metadata": {
  "kernelspec": {
   "display_name": "myenv",
   "language": "python",
   "name": "python3"
  },
  "language_info": {
   "codemirror_mode": {
    "name": "ipython",
    "version": 3
   },
   "file_extension": ".py",
   "mimetype": "text/x-python",
   "name": "python",
   "nbconvert_exporter": "python",
   "pygments_lexer": "ipython3",
   "version": "3.12.7"
  }
 },
 "nbformat": 4,
 "nbformat_minor": 2
}
