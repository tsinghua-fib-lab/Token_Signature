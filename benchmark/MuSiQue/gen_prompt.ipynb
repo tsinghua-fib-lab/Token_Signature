{
 "cells": [
  {
   "cell_type": "code",
   "execution_count": 2,
   "metadata": {},
   "outputs": [],
   "source": [
    "import json\n",
    "\n",
    "# 假设我们已经加载了 musique_ans_v1.0_dev.jsonl 文件\n",
    "input_file = 'musique_ans_v1.0_dev.jsonl'\n",
    "output_file = 'data.jsonl'\n",
    "\n",
    "# 打开并读取原始数据\n",
    "with open(input_file, 'r') as f:\n",
    "    lines = f.readlines()\n",
    "\n",
    "# 创建输出文件\n",
    "with open(output_file, 'w') as out_f:\n",
    "    for line in lines:\n",
    "        # 解析每一行 JSON\n",
    "        data = json.loads(line.strip())\n",
    "        \n",
    "        # 提取段落和问题\n",
    "        paragraphs = data['paragraphs']\n",
    "        question = data['question']\n",
    "        answer = data['answer']\n",
    "        \n",
    "        # 将段落文本合并为一个字符串\n",
    "        paragraph_texts = \"\\n\".join([f\"\\\"{p['paragraph_text']}\\\"\" for p in paragraphs])\n",
    "        \n",
    "        # 构建完整的问题\n",
    "        full_question = f\"You are given the following paragraphs:\\n{paragraph_texts}\\nBased on the paragraphs above, and not your internal knowledge, please answer the question below:\\n{question}\\n\\n\"\n",
    "        \n",
    "        # 构建每一行的输出 JSON 对象\n",
    "        output_data = {\n",
    "            \"question\": full_question,\n",
    "            \"answer\": answer\n",
    "        }\n",
    "        \n",
    "        # 将结果写入到输出文件\n",
    "        out_f.write(json.dumps(output_data) + '\\n')\n"
   ]
  }
 ],
 "metadata": {
  "kernelspec": {
   "display_name": "myenv",
   "language": "python",
   "name": "python3"
  },
  "language_info": {
   "codemirror_mode": {
    "name": "ipython",
    "version": 3
   },
   "file_extension": ".py",
   "mimetype": "text/x-python",
   "name": "python",
   "nbconvert_exporter": "python",
   "pygments_lexer": "ipython3",
   "version": "3.12.7"
  }
 },
 "nbformat": 4,
 "nbformat_minor": 2
}
