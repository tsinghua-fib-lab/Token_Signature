{
 "cells": [
  {
   "cell_type": "code",
   "execution_count": 11,
   "metadata": {},
   "outputs": [
    {
     "name": "stdout",
     "output_type": "stream",
     "text": [
      "                      id                                           question  \\\n",
      "0         Mercury_417466  Which statement best explains why photosynthes...   \n",
      "1        Mercury_7081673  Which piece of safety equipment is used to kee...   \n",
      "2        Mercury_7239733  Meiosis is a type of cell division in which ge...   \n",
      "3  NYSEDREGENTS_2015_4_8  Which characteristic describes the texture of ...   \n",
      "4        Mercury_7037258     Which best describes the structure of an atom?   \n",
      "\n",
      "                                             choices answerKey  \n",
      "0  {'label': ['A', 'B', 'C', 'D'], 'text': ['Sunl...         A  \n",
      "1  {'label': ['A', 'B', 'C', 'D'], 'text': ['safe...         B  \n",
      "2  {'label': ['A', 'B', 'C', 'D'], 'text': ['brai...         D  \n",
      "3  {'label': ['A', 'B', 'C', 'D'], 'text': ['gray...         D  \n",
      "4  {'label': ['A', 'B', 'C', 'D'], 'text': ['a li...         B  \n",
      "2376\n"
     ]
    }
   ],
   "source": [
    "import pandas as pd\n",
    "\n",
    "# 读取 Parquet 文件   test-00000-of-00001-051b2a5b98f460ab.parquet  2376\n",
    "#'validation-00000-of-00001-522713df70afa7ba.parquet'         #570\n",
    "file_path = 'test-00000-of-00001-051b2a5b98f460ab.parquet'         #570\n",
    "df = pd.read_parquet(file_path)\n",
    "\n",
    "# 查看前5行数据\n",
    "print(df.head())\n",
    "\n",
    "# 打印数据的基本信息\n",
    "print(len(df))\n"
   ]
  },
  {
   "cell_type": "code",
   "execution_count": 12,
   "metadata": {},
   "outputs": [
    {
     "name": "stdout",
     "output_type": "stream",
     "text": [
      "{'label': array(['A', 'B', 'C', 'D'], dtype=object), 'text': array(['Sunlight is the source of energy for nearly all ecosystems.',\n",
      "       'Most ecosystems are found on land instead of in water.',\n",
      "       'Carbon dioxide is more available than other gases.',\n",
      "       'The producers in all ecosystems are plants.'], dtype=object)}\n",
      "Which statement best explains why photosynthesis is the foundation of most food webs?\n",
      "A\n"
     ]
    }
   ],
   "source": [
    "print(df.iloc[0]['choices'])\n",
    "print(df.iloc[0]['question'])\n",
    "print(df.iloc[0]['answerKey'])"
   ]
  },
  {
   "cell_type": "code",
   "execution_count": 13,
   "metadata": {},
   "outputs": [
    {
     "name": "stdout",
     "output_type": "stream",
     "text": [
      "id                                              Mercury_417466\n",
      "question     Which statement best explains why photosynthes...\n",
      "choices      {'label': ['A', 'B', 'C', 'D'], 'text': ['Sunl...\n",
      "answerKey                                                    A\n",
      "Name: 0, dtype: object\n"
     ]
    }
   ],
   "source": [
    "print(df.iloc[0])"
   ]
  }
 ],
 "metadata": {
  "kernelspec": {
   "display_name": "myenv",
   "language": "python",
   "name": "python3"
  },
  "language_info": {
   "codemirror_mode": {
    "name": "ipython",
    "version": 3
   },
   "file_extension": ".py",
   "mimetype": "text/x-python",
   "name": "python",
   "nbconvert_exporter": "python",
   "pygments_lexer": "ipython3",
   "version": "3.12.7"
  }
 },
 "nbformat": 4,
 "nbformat_minor": 2
}
