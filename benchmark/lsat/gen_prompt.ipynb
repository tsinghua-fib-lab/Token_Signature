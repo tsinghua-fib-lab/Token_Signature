{
 "cells": [
  {
   "cell_type": "code",
   "execution_count": 7,
   "metadata": {},
   "outputs": [
    {
     "data": {
      "text/plain": [
       "['passage', 'question', 'options', 'label', 'answer', 'other']"
      ]
     },
     "execution_count": 7,
     "metadata": {},
     "output_type": "execute_result"
    }
   ],
   "source": [
    "import json\n",
    "\n",
    "# Read the JSONL file and extract keys from each JSON object\n",
    "file_path = 'lsat-ar.jsonl'  # Replace with the actual file path\n",
    "\n",
    "first_line_keys = []\n",
    "\n",
    "with open(file_path, 'r') as file:\n",
    "    first_line = file.readline().strip()\n",
    "    if first_line:\n",
    "        first_line_dict = json.loads(first_line)\n",
    "        first_line_keys = list(first_line_dict.keys())\n",
    "\n",
    "first_line_keys\n"
   ]
  },
  {
   "cell_type": "code",
   "execution_count": 9,
   "metadata": {},
   "outputs": [
    {
     "name": "stdout",
     "output_type": "stream",
     "text": [
      "文件已成功转换并保存为 data.jsonl\n"
     ]
    }
   ],
   "source": [
    "import json\n",
    "\n",
    "# 假设输入的 JSONL 文件为 input.jsonl，输出的 JSONL 文件为 output.jsonl\n",
    "input_file = 'lsat-ar.jsonl'\n",
    "output_file = 'data.jsonl'\n",
    "\n",
    "# 读取输入文件并转换格式\n",
    "with open(input_file, 'r', encoding='utf-8') as infile, open(output_file, 'w', encoding='utf-8') as outfile:\n",
    "    for line in infile:\n",
    "        # 将每一行解析为字典\n",
    "        row = json.loads(line)\n",
    "        \n",
    "        row['options'] = [option.replace(')', '): ') for option in row['options']]\n",
    "        # 构造 `question` 字段\n",
    "        question = (\n",
    "            row['passage'] + row['question'] + '\\n\\n' +\n",
    "            '\\n' + row['options'][0] + ' ' +\n",
    "            '\\n' + row['options'][1] + ' ' +\n",
    "            '\\n' + row['options'][2] + ' ' +\n",
    "            '\\n' + row['options'][3] + ' ' +\n",
    "            '\\n' + row['options'][4]\n",
    "        )\n",
    "\n",
    "        # 确定 `answercontent`\n",
    "        label_to_index = {'A': 0, 'B': 1, 'C': 2, 'D': 3, 'E': 4}\n",
    "        answer = row['label']\n",
    "        answer_index = label_to_index[answer]\n",
    "        answer_content = row['options'][answer_index]\n",
    "\n",
    "        # 构造新的行\n",
    "        new_row = {\n",
    "            'question': question,\n",
    "            'answer': answer,\n",
    "            'answercontent': answer_content\n",
    "        }\n",
    "\n",
    "        # 写入输出文件\n",
    "        outfile.write(json.dumps(new_row, ensure_ascii=False) + '\\n')\n",
    "\n",
    "print(f\"文件已成功转换并保存为 {output_file}\")\n",
    "\n"
   ]
  },
  {
   "cell_type": "code",
   "execution_count": 10,
   "metadata": {},
   "outputs": [
    {
     "name": "stdout",
     "output_type": "stream",
     "text": [
      "所有文件已成功转换并合并到 data.jsonl\n"
     ]
    }
   ],
   "source": [
    "import json\n",
    "\n",
    "# 输入的多个 JSONL 文件列表\n",
    "input_files = ['lsat-ar.jsonl', 'lsat-lr.jsonl', 'lsat-rc.jsonl']\n",
    "output_file = 'data.jsonl'\n",
    "\n",
    "# 映射答案标签到索引\n",
    "label_to_index = {'A': 0, 'B': 1, 'C': 2, 'D': 3, 'E': 4}\n",
    "\n",
    "# 打开输出文件\n",
    "with open(output_file, 'w', encoding='utf-8') as outfile:\n",
    "    # 遍历所有输入文件\n",
    "    for input_file in input_files:\n",
    "        with open(input_file, 'r', encoding='utf-8') as infile:\n",
    "            # 逐行读取并处理\n",
    "            for line in infile:\n",
    "                row = json.loads(line)\n",
    "                \n",
    "                # 格式化选项\n",
    "                row['options'] = [option.replace(')', '): ') for option in row['options']]\n",
    "                \n",
    "                # 构造 `question` 字段\n",
    "                question = (\n",
    "                    row['passage'] + row['question'] + '\\n\\n' +\n",
    "                    '\\n' + row['options'][0] + ' ' +\n",
    "                    '\\n' + row['options'][1] + ' ' +\n",
    "                    '\\n' + row['options'][2] + ' ' +\n",
    "                    '\\n' + row['options'][3] + ' ' +\n",
    "                    '\\n' + row['options'][4]\n",
    "                )\n",
    "                \n",
    "                # 确定 `answercontent`\n",
    "                answer = row['label']\n",
    "                answer_index = label_to_index[answer]\n",
    "                answer_content = row['options'][answer_index]\n",
    "                \n",
    "                # 构造新的行\n",
    "                new_row = {\n",
    "                    'question': question,\n",
    "                    'answer': answer,\n",
    "                    'answercontent': answer_content\n",
    "                }\n",
    "                \n",
    "                # 写入输出文件\n",
    "                outfile.write(json.dumps(new_row, ensure_ascii=False) + '\\n')\n",
    "\n",
    "print(f\"所有文件已成功转换并合并到 {output_file}\")\n"
   ]
  }
 ],
 "metadata": {
  "kernelspec": {
   "display_name": "myenv",
   "language": "python",
   "name": "python3"
  },
  "language_info": {
   "codemirror_mode": {
    "name": "ipython",
    "version": 3
   },
   "file_extension": ".py",
   "mimetype": "text/x-python",
   "name": "python",
   "nbconvert_exporter": "python",
   "pygments_lexer": "ipython3",
   "version": "3.12.7"
  }
 },
 "nbformat": 4,
 "nbformat_minor": 2
}
