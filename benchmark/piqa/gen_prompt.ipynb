{
 "cells": [
  {
   "cell_type": "code",
   "execution_count": 2,
   "metadata": {},
   "outputs": [
    {
     "name": "stdout",
     "output_type": "stream",
     "text": [
      "File 'data.jsonl' has been generated.\n"
     ]
    }
   ],
   "source": [
    "import json\n",
    "\n",
    "# 假设 valid.jsonl 和 valid-labels.lst 文件路径如下\n",
    "valid_jsonl_file = 'valid.jsonl'\n",
    "valid_labels_file = 'valid-labels.lst'\n",
    "output_file = 'data.jsonl'\n",
    "\n",
    "# 读取 valid.jsonl 文件\n",
    "with open(valid_jsonl_file, 'r', encoding='utf-8') as f:\n",
    "    valid_data = [json.loads(line.strip()) for line in f.readlines()]\n",
    "\n",
    "# 读取 valid-labels.lst 文件\n",
    "with open(valid_labels_file, 'r', encoding='utf-8') as f:\n",
    "    labels = [int(line.strip()) for line in f.readlines()]\n",
    "\n",
    "# 确保 valid.jsonl 和 valid-labels.lst 文件行数一致\n",
    "assert len(valid_data) == len(labels), \"The number of lines in valid.jsonl and valid-labels.lst should match.\"\n",
    "\n",
    "# 创建 data.jsonl 文件并写入内容\n",
    "with open(output_file, 'w', encoding='utf-8') as out_f:\n",
    "    for idx, entry in enumerate(valid_data):\n",
    "        goal = entry['goal']\n",
    "        sol1 = entry['sol1']\n",
    "        sol2 = entry['sol2']\n",
    "        label = labels[idx]\n",
    "        \n",
    "        # 构造 question 和 answer\n",
    "        question = f\"Question: \\nPlease select the most correct option from the options provided. {goal}. \\n\\n(A): {sol1}\\n(B): {sol2}\\n\"\n",
    "        answer = 'A' if label == 0 else 'B'\n",
    "        \n",
    "        # 写入输出文件\n",
    "        output_entry = {\"question\": question, \"answer\": answer}\n",
    "        out_f.write(json.dumps(output_entry, ensure_ascii=False) + '\\n')\n",
    "\n",
    "print(f\"File '{output_file}' has been generated.\")\n"
   ]
  }
 ],
 "metadata": {
  "kernelspec": {
   "display_name": "myenv",
   "language": "python",
   "name": "python3"
  },
  "language_info": {
   "codemirror_mode": {
    "name": "ipython",
    "version": 3
   },
   "file_extension": ".py",
   "mimetype": "text/x-python",
   "name": "python",
   "nbconvert_exporter": "python",
   "pygments_lexer": "ipython3",
   "version": "3.12.7"
  }
 },
 "nbformat": 4,
 "nbformat_minor": 2
}
