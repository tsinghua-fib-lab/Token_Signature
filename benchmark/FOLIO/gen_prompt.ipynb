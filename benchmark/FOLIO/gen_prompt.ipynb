{
 "cells": [
  {
   "cell_type": "code",
   "execution_count": 2,
   "metadata": {},
   "outputs": [
    {
     "name": "stdout",
     "output_type": "stream",
     "text": [
      "Data written to data.jsonl\n"
     ]
    }
   ],
   "source": [
    "import json\n",
    "\n",
    "# 读取原始数据文件\n",
    "input_files = ['folio_v2_validation.jsonl', 'folio_v2_train.jsonl']\n",
    "output_file = 'data.jsonl'\n",
    "\n",
    "# 准备写入文件\n",
    "with open(output_file, 'w', encoding='utf-8') as out_file:\n",
    "    for input_file in input_files:\n",
    "        with open(input_file, 'r', encoding='utf-8') as in_file:\n",
    "            for line in in_file:\n",
    "                # 解析 JSON 数据\n",
    "                data = json.loads(line)\n",
    "                \n",
    "                # 提取相关数据\n",
    "                premises = data.get(\"premises\", \"\")\n",
    "                conclusion = data.get(\"conclusion\", \"\")\n",
    "                label = data.get(\"label\", \"Uncertain\")\n",
    "                \n",
    "                # 构造 question 和 answer\n",
    "                question = f\"Premises: {premises} \\nConclusion: {conclusion} \\nBased on the premises, is the conclusion true(A), false(B), or uncertain(C)? Please select the most correct option from the options provided. \\n(A): True\\n(B): False\\n(C): Uncertain\\n\\n\"\n",
    "                \n",
    "                # 根据 label 确定 answer\n",
    "                if label == \"True\":\n",
    "                    answer = \"A\"\n",
    "                elif label == \"False\":\n",
    "                    answer = \"B\"\n",
    "                else:  # \"Uncertain\"\n",
    "                    answer = \"C\"\n",
    "                \n",
    "                # 构造输出数据\n",
    "                output_data = {\n",
    "                    \"question\": question,\n",
    "                    \"answer\": answer\n",
    "                }\n",
    "                \n",
    "                # 写入到输出文件\n",
    "                out_file.write(json.dumps(output_data, ensure_ascii=False) + '\\n')\n",
    "\n",
    "print(f\"Data written to {output_file}\")\n"
   ]
  }
 ],
 "metadata": {
  "kernelspec": {
   "display_name": "myenv",
   "language": "python",
   "name": "python3"
  },
  "language_info": {
   "codemirror_mode": {
    "name": "ipython",
    "version": 3
   },
   "file_extension": ".py",
   "mimetype": "text/x-python",
   "name": "python",
   "nbconvert_exporter": "python",
   "pygments_lexer": "ipython3",
   "version": "3.12.7"
  }
 },
 "nbformat": 4,
 "nbformat_minor": 2
}
