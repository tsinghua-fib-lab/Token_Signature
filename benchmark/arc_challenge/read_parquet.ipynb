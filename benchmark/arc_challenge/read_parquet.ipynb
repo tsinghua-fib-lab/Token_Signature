{
 "cells": [
  {
   "cell_type": "code",
   "execution_count": 4,
   "metadata": {},
   "outputs": [
    {
     "name": "stdout",
     "output_type": "stream",
     "text": [
      "                  id                                           question  \\\n",
      "0    Mercury_7175875  An astronomer observes that a planet rotates f...   \n",
      "1  Mercury_SC_409171  A group of engineers wanted to know how differ...   \n",
      "2  Mercury_SC_408547  The end result in the process of photosynthesi...   \n",
      "3     Mercury_407327  A physicist wants to determine the speed a car...   \n",
      "4     MCAS_2006_9_44  An astronaut drops a 1.0 kg object and a 5.0 k...   \n",
      "\n",
      "                                             choices answerKey  \n",
      "0  {'label': ['A', 'B', 'C', 'D'], 'text': ['Plan...         C  \n",
      "1  {'label': ['A', 'B', 'C', 'D'], 'text': ['buil...         B  \n",
      "2  {'label': ['A', 'B', 'C', 'D'], 'text': ['Chem...         C  \n",
      "3  {'label': ['A', 'B', 'C', 'D'], 'text': ['the ...         D  \n",
      "4  {'label': ['A', 'B', 'C', 'D'], 'text': ['They...         D  \n",
      "1172\n"
     ]
    }
   ],
   "source": [
    "import pandas as pd\n",
    "\n",
    "# 读取 Parquet 文件   data/validation-00000-of-00001-35bfd45dc9fba204.parquet  299\n",
    "file_path = 'data/test-00000-of-00001-7881b8fdbf770bff.parquet' #1172\n",
    "df = pd.read_parquet(file_path)\n",
    "\n",
    "# 查看前5行数据\n",
    "print(df.head())\n",
    "\n",
    "# 打印数据的基本信息\n",
    "print(len(df))\n"
   ]
  },
  {
   "cell_type": "code",
   "execution_count": 5,
   "metadata": {},
   "outputs": [
    {
     "name": "stdout",
     "output_type": "stream",
     "text": [
      "{'label': array(['A', 'B', 'C', 'D'], dtype=object), 'text': array(['Planetary density will decrease.',\n",
      "       'Planetary years will become longer.',\n",
      "       'Planetary days will become shorter.',\n",
      "       'Planetary gravity will become stronger.'], dtype=object)}\n",
      "An astronomer observes that a planet rotates faster after a meteorite impact. Which is the most likely effect of this increase in rotation?\n",
      "C\n"
     ]
    }
   ],
   "source": [
    "print(df.iloc[0]['choices'])\n",
    "print(df.iloc[0]['question'])\n",
    "print(df.iloc[0]['answerKey'])"
   ]
  },
  {
   "cell_type": "code",
   "execution_count": 6,
   "metadata": {},
   "outputs": [
    {
     "name": "stdout",
     "output_type": "stream",
     "text": [
      "id                                             Mercury_7175875\n",
      "question     An astronomer observes that a planet rotates f...\n",
      "choices      {'label': ['A', 'B', 'C', 'D'], 'text': ['Plan...\n",
      "answerKey                                                    C\n",
      "Name: 0, dtype: object\n"
     ]
    }
   ],
   "source": [
    "print(df.iloc[0])"
   ]
  }
 ],
 "metadata": {
  "kernelspec": {
   "display_name": "myenv",
   "language": "python",
   "name": "python3"
  },
  "language_info": {
   "codemirror_mode": {
    "name": "ipython",
    "version": 3
   },
   "file_extension": ".py",
   "mimetype": "text/x-python",
   "name": "python",
   "nbconvert_exporter": "python",
   "pygments_lexer": "ipython3",
   "version": "3.12.7"
  }
 },
 "nbformat": 4,
 "nbformat_minor": 2
}
