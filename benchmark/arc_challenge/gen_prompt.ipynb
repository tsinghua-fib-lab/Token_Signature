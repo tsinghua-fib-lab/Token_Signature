{
 "cells": [
  {
   "cell_type": "code",
   "execution_count": 1,
   "metadata": {},
   "outputs": [
    {
     "name": "stdout",
     "output_type": "stream",
     "text": [
      "数据已成功转换并保存为 data.jsonl\n"
     ]
    }
   ],
   "source": [
    "import pandas as pd\n",
    "import json\n",
    "\n",
    "# 读取 parquet 文件\n",
    "df = pd.read_parquet('data/test-00000-of-00001-7881b8fdbf770bff.parquet')\n",
    "\n",
    "# 打开 output.jsonl 文件用于写入\n",
    "with open('data.jsonl', 'w', encoding='utf-8') as jsonl_file:\n",
    "    for index, row in df.iterrows():\n",
    "        # 构建 question 部分\n",
    "        question_text = row['question']\n",
    "        choices = row['choices']\n",
    "        choice_text = ' '.join([f\"({label}): {text}\\n\" for label, text in zip(choices['label'], choices['text'])])\n",
    "        question = f\"Please select the most correct option from the options provided. {question_text}. \\n\\n {choice_text}\"\n",
    "        \n",
    "        # 构建 answer 部分\n",
    "        answer = row['answerKey']\n",
    "        \n",
    "        # 创建一条记录\n",
    "        record = {\n",
    "            \"question\": question,\n",
    "            \"answer\": answer\n",
    "        }\n",
    "        \n",
    "        # 写入 jsonl 文件\n",
    "        jsonl_file.write(json.dumps(record, ensure_ascii=False) + '\\n')\n",
    "\n",
    "print(\"数据已成功转换并保存为 data.jsonl\")\n"
   ]
  }
 ],
 "metadata": {
  "kernelspec": {
   "display_name": "myenv",
   "language": "python",
   "name": "python3"
  },
  "language_info": {
   "codemirror_mode": {
    "name": "ipython",
    "version": 3
   },
   "file_extension": ".py",
   "mimetype": "text/x-python",
   "name": "python",
   "nbconvert_exporter": "python",
   "pygments_lexer": "ipython3",
   "version": "3.12.7"
  }
 },
 "nbformat": 4,
 "nbformat_minor": 2
}
