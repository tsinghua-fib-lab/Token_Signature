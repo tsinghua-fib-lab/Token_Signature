{
 "cells": [
  {
   "cell_type": "code",
   "execution_count": 3,
   "metadata": {},
   "outputs": [
    {
     "name": "stdout",
     "output_type": "stream",
     "text": [
      "File 'data.jsonl' has been generated.\n"
     ]
    }
   ],
   "source": [
    "import pandas as pd\n",
    "import json\n",
    "\n",
    "# 假设 0000.parquet 文件路径如下\n",
    "parquet_file = 'test/0000.parquet'\n",
    "output_file = 'data.jsonl'\n",
    "\n",
    "# 读取 parquet 文件\n",
    "df = pd.read_parquet(parquet_file)\n",
    "\n",
    "# 创建 data.jsonl 文件并写入内容\n",
    "with open(output_file, 'w', encoding='utf-8') as out_f:\n",
    "    for idx, row in df.iterrows():\n",
    "        description = row['description']\n",
    "        question = row['question']\n",
    "        answer = row['answer']\n",
    "        \n",
    "        # 构造 question 和 answer\n",
    "        question_text = f\"Question: \\n{description}. {question} Please select the most correct option from the options provided.\\n\\n(A): True \\n(B): False\\n\"\n",
    "        answer_text = 'A' if answer == 'True' else 'B'\n",
    "        \n",
    "        # 写入输出文件\n",
    "        output_entry = {\"question\": question_text, \"answer\": answer_text}\n",
    "        out_f.write(json.dumps(output_entry, ensure_ascii=False) + '\\n')\n",
    "\n",
    "print(f\"File '{output_file}' has been generated.\")\n"
   ]
  }
 ],
 "metadata": {
  "kernelspec": {
   "display_name": "myenv",
   "language": "python",
   "name": "python3"
  },
  "language_info": {
   "codemirror_mode": {
    "name": "ipython",
    "version": 3
   },
   "file_extension": ".py",
   "mimetype": "text/x-python",
   "name": "python",
   "nbconvert_exporter": "python",
   "pygments_lexer": "ipython3",
   "version": "3.12.7"
  }
 },
 "nbformat": 4,
 "nbformat_minor": 2
}
