{
 "cells": [
  {
   "cell_type": "code",
   "execution_count": 7,
   "metadata": {},
   "outputs": [
    {
     "name": "stdout",
     "output_type": "stream",
     "text": [
      "新数据已保存到 data.jsonl\n"
     ]
    }
   ],
   "source": [
    "import json\n",
    "\n",
    "# 输入和输出文件名\n",
    "input_file = \"data_initial.jsonl\"\n",
    "output_file = \"data.jsonl\"\n",
    "\n",
    "# 初始化新数据列表\n",
    "new_data = []\n",
    "\n",
    "# 读取输入文件并处理\n",
    "with open(input_file, \"r\", encoding=\"utf-8\") as file:\n",
    "    for line in file:\n",
    "        # 将每行解析为 JSON\n",
    "        record = json.loads(line)\n",
    "        # 获取 \"answer\" 字段\n",
    "        answer = record.get(\"answer\", \"\")\n",
    "        # 提取 \"#### \" 后的数字\n",
    "        if \"#### \" in answer:\n",
    "            new_answer = answer.split(\"#### \")[-1].strip()\n",
    "            # 创建新的记录\n",
    "            new_record = {\n",
    "                \"question\": record[\"question\"],\n",
    "                \"answer\": new_answer\n",
    "            }\n",
    "            new_data.append(new_record)\n",
    "\n",
    "# 将新数据写入输出文件\n",
    "with open(output_file, \"w\", encoding=\"utf-8\") as file:\n",
    "    for record in new_data:\n",
    "        file.write(json.dumps(record, ensure_ascii=False) + \"\\n\")\n",
    "\n",
    "print(f\"新数据已保存到 {output_file}\")\n"
   ]
  }
 ],
 "metadata": {
  "kernelspec": {
   "display_name": "myenv",
   "language": "python",
   "name": "python3"
  },
  "language_info": {
   "codemirror_mode": {
    "name": "ipython",
    "version": 3
   },
   "file_extension": ".py",
   "mimetype": "text/x-python",
   "name": "python",
   "nbconvert_exporter": "python",
   "pygments_lexer": "ipython3",
   "version": "3.12.7"
  }
 },
 "nbformat": 4,
 "nbformat_minor": 2
}
