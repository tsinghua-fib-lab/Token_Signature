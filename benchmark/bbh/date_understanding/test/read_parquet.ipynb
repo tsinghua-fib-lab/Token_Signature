{
 "cells": [
  {
   "cell_type": "code",
   "execution_count": 1,
   "metadata": {},
   "outputs": [
    {
     "name": "stdout",
     "output_type": "stream",
     "text": [
      "                                               input target\n",
      "0  Today is Christmas Eve of 1937. What is the da...    (B)\n",
      "1  In the UK, people usually put the day before t...    (A)\n",
      "2  Jane and John married on Jan 2, 1958. It is th...    (B)\n",
      "3  Jane scheduled 3 apointments with 5 poeple for...    (E)\n",
      "4  Today's meeting is rescheduled to 11 am tomorr...    (B)\n",
      "250\n"
     ]
    }
   ],
   "source": [
    "import pandas as pd\n",
    "\n",
    "# 读取 Parquet 文件   data/validation-00000-of-00001-35bfd45dc9fba204.parquet  299\n",
    "file_path = '0000.parquet' #1172\n",
    "df = pd.read_parquet(file_path)\n",
    "\n",
    "# 查看前5行数据\n",
    "print(df.head())\n",
    "\n",
    "# 打印数据的基本信息\n",
    "print(len(df))\n"
   ]
  },
  {
   "cell_type": "code",
   "execution_count": 2,
   "metadata": {},
   "outputs": [
    {
     "name": "stdout",
     "output_type": "stream",
     "text": [
      "Today's meeting is rescheduled to 11 am tomorrow, 10/16/1924. What is the date one week from today in MM/DD/YYYY?\n",
      "Options:\n",
      "(A) 10/22/1944\n",
      "(B) 10/22/1924\n",
      "(C) 10/07/1924\n",
      "(D) 10/21/1924\n",
      "(E) 08/22/1925\n",
      "(F) 11/21/1924\n",
      "(B)\n"
     ]
    }
   ],
   "source": [
    "print(df.iloc[4]['input'])\n",
    "print(df.iloc[0]['target'])"
   ]
  },
  {
   "cell_type": "code",
   "execution_count": 3,
   "metadata": {},
   "outputs": [
    {
     "name": "stdout",
     "output_type": "stream",
     "text": [
      "input     Today is Christmas Eve of 1937. What is the da...\n",
      "target                                                  (B)\n",
      "Name: 0, dtype: object\n"
     ]
    }
   ],
   "source": [
    "print(df.iloc[0])"
   ]
  }
 ],
 "metadata": {
  "kernelspec": {
   "display_name": "myenv",
   "language": "python",
   "name": "python3"
  },
  "language_info": {
   "codemirror_mode": {
    "name": "ipython",
    "version": 3
   },
   "file_extension": ".py",
   "mimetype": "text/x-python",
   "name": "python",
   "nbconvert_exporter": "python",
   "pygments_lexer": "ipython3",
   "version": "3.12.7"
  }
 },
 "nbformat": 4,
 "nbformat_minor": 2
}
