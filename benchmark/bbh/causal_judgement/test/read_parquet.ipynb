{
 "cells": [
  {
   "cell_type": "code",
   "execution_count": 8,
   "metadata": {},
   "outputs": [
    {
     "name": "stdout",
     "output_type": "stream",
     "text": [
      "                                               input target\n",
      "0  How would a typical person answer each of the ...     No\n",
      "1  How would a typical person answer each of the ...     No\n",
      "2  How would a typical person answer each of the ...    Yes\n",
      "3  How would a typical person answer each of the ...     No\n",
      "4  How would a typical person answer each of the ...    Yes\n",
      "187\n"
     ]
    }
   ],
   "source": [
    "import pandas as pd\n",
    "\n",
    "# 读取 Parquet 文件   data/validation-00000-of-00001-35bfd45dc9fba204.parquet  299\n",
    "file_path = '0000.parquet' #1172\n",
    "df = pd.read_parquet(file_path)\n",
    "\n",
    "# 查看前5行数据\n",
    "print(df.head())\n",
    "\n",
    "# 打印数据的基本信息\n",
    "print(len(df))\n"
   ]
  },
  {
   "cell_type": "code",
   "execution_count": 9,
   "metadata": {},
   "outputs": [
    {
     "name": "stdout",
     "output_type": "stream",
     "text": [
      "How would a typical person answer each of the following questions about causation?\n",
      "Claire's parents bought her an old computer. Claire uses it for schoolwork, but her brother Daniel sometimes logs on to play games. Claire has told Daniel, \"Please don't log on to my computer. If we are both logged on at the same time, it will crash\". One day, Claire and Daniel logged on to the computer at the same time. The computer crashed. Later that day, Claire's mother is talking with the computer repairman. The repairman says, \"I see that Daniel was logged on, but this computer will only crash if two people are logged on at the same time. So, I still don't see quite why the computer crashed.\" Did Daniel cause the computer crash?\n",
      "Options:\n",
      "- Yes\n",
      "- No\n",
      "No\n"
     ]
    }
   ],
   "source": [
    "print(df.iloc[4]['input'])\n",
    "print(df.iloc[0]['target'])"
   ]
  },
  {
   "cell_type": "code",
   "execution_count": 10,
   "metadata": {},
   "outputs": [
    {
     "name": "stdout",
     "output_type": "stream",
     "text": [
      "input     How would a typical person answer each of the ...\n",
      "target                                                   No\n",
      "Name: 0, dtype: object\n"
     ]
    }
   ],
   "source": [
    "print(df.iloc[0])"
   ]
  }
 ],
 "metadata": {
  "kernelspec": {
   "display_name": "myenv",
   "language": "python",
   "name": "python3"
  },
  "language_info": {
   "codemirror_mode": {
    "name": "ipython",
    "version": 3
   },
   "file_extension": ".py",
   "mimetype": "text/x-python",
   "name": "python",
   "nbconvert_exporter": "python",
   "pygments_lexer": "ipython3",
   "version": "3.12.7"
  }
 },
 "nbformat": 4,
 "nbformat_minor": 2
}
