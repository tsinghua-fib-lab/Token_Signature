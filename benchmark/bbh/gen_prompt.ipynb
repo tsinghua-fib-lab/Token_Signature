{
 "cells": [
  {
   "cell_type": "code",
   "execution_count": 1,
   "metadata": {},
   "outputs": [
    {
     "name": "stdout",
     "output_type": "stream",
     "text": [
      "处理 disambiguation_qa/test/0000.parquet 完成！\n",
      "处理 hyperbaton/test/0000.parquet 完成！\n",
      "处理 logical_deduction_five_objects/test/0000.parquet 完成！\n",
      "处理 movie_recommendation/test/0000.parquet 完成！\n",
      "处理 penguins_in_a_table/test/0000.parquet 完成！\n",
      "处理 ruin_names/test/0000.parquet 完成！\n",
      "处理 snarks/test/0000.parquet 完成！\n",
      "处理 temporal_sequences/test/0000.parquet 完成！\n",
      "处理 tracking_shuffled_objects_five_objects/test/0000.parquet 完成！\n"
     ]
    }
   ],
   "source": [
    "import pandas as pd\n",
    "import json\n",
    "import os\n",
    "\n",
    "# 定义路径列表\n",
    "paths = [\n",
    "    \"disambiguation_qa\", \n",
    "    \"hyperbaton\", \n",
    "    \"logical_deduction_five_objects\", \n",
    "    \"movie_recommendation\", \n",
    "    \"penguins_in_a_table\", \n",
    "    \"ruin_names\", \n",
    "    \"snarks\", \n",
    "    \"temporal_sequences\", \n",
    "    \"tracking_shuffled_objects_five_objects\"\n",
    "]\n",
    "\n",
    "# 创建并打开 data.jsonl 文件进行写入\n",
    "with open('data.jsonl', 'w') as f:\n",
    "    # 遍历每个路径并处理\n",
    "    for path in paths:\n",
    "        # 构建文件路径\n",
    "        parquet_path = f'{path}/test/0000.parquet'\n",
    "\n",
    "        # 确保文件存在\n",
    "        if os.path.exists(parquet_path):\n",
    "            # 读取 Parquet 文件\n",
    "            df = pd.read_parquet(parquet_path)\n",
    "\n",
    "            # 遍历 Parquet 文件的每一行\n",
    "            for index, row in df.iterrows():\n",
    "                question = row['input']\n",
    "                target = row['target']\n",
    "\n",
    "                # 从 target 中提取大写字母\n",
    "                answer = ''.join([char for char in target if char.isupper()])\n",
    "\n",
    "                # 构造 JSON 格式并写入文件\n",
    "                data = {\"question\": question, \"answer\": answer}\n",
    "                f.write(json.dumps(data) + '\\n')\n",
    "\n",
    "            print(f'处理 {parquet_path} 完成！')\n",
    "        else:\n",
    "            print(f\"路径 {parquet_path} 不存在，跳过处理。\")\n"
   ]
  }
 ],
 "metadata": {
  "kernelspec": {
   "display_name": "myenv",
   "language": "python",
   "name": "python3"
  },
  "language_info": {
   "codemirror_mode": {
    "name": "ipython",
    "version": 3
   },
   "file_extension": ".py",
   "mimetype": "text/x-python",
   "name": "python",
   "nbconvert_exporter": "python",
   "pygments_lexer": "ipython3",
   "version": "3.12.7"
  }
 },
 "nbformat": 4,
 "nbformat_minor": 2
}
