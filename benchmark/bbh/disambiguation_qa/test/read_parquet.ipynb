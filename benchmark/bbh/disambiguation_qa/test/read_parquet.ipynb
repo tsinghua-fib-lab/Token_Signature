{
 "cells": [
  {
   "cell_type": "code",
   "execution_count": 4,
   "metadata": {},
   "outputs": [
    {
     "name": "stdout",
     "output_type": "stream",
     "text": [
      "                                               input target\n",
      "0  In the following sentences, explain the antece...    (A)\n",
      "1  In the following sentences, explain the antece...    (C)\n",
      "2  In the following sentences, explain the antece...    (C)\n",
      "3  In the following sentences, explain the antece...    (C)\n",
      "4  In the following sentences, explain the antece...    (C)\n",
      "250\n"
     ]
    }
   ],
   "source": [
    "import pandas as pd\n",
    "\n",
    "# 读取 Parquet 文件   data/validation-00000-of-00001-35bfd45dc9fba204.parquet  299\n",
    "file_path = '0000.parquet' #1172\n",
    "df = pd.read_parquet(file_path)\n",
    "\n",
    "# 查看前5行数据\n",
    "print(df.head())\n",
    "\n",
    "# 打印数据的基本信息\n",
    "print(len(df))\n"
   ]
  },
  {
   "cell_type": "code",
   "execution_count": 5,
   "metadata": {},
   "outputs": [
    {
     "name": "stdout",
     "output_type": "stream",
     "text": [
      "In the following sentences, explain the antecedent of the pronoun (which thing the pronoun refers to), or state that it is ambiguous.\n",
      "Sentence: Bailey planned to meet the director at their office\n",
      "Options:\n",
      "(A) The office was the director's office\n",
      "(B) The office was Bailey's office\n",
      "(C) Ambiguous\n",
      "(A)\n"
     ]
    }
   ],
   "source": [
    "print(df.iloc[4]['input'])\n",
    "print(df.iloc[0]['target'])"
   ]
  },
  {
   "cell_type": "code",
   "execution_count": 6,
   "metadata": {},
   "outputs": [
    {
     "name": "stdout",
     "output_type": "stream",
     "text": [
      "input     In the following sentences, explain the antece...\n",
      "target                                                  (A)\n",
      "Name: 0, dtype: object\n"
     ]
    }
   ],
   "source": [
    "print(df.iloc[0])"
   ]
  }
 ],
 "metadata": {
  "kernelspec": {
   "display_name": "myenv",
   "language": "python",
   "name": "python3"
  },
  "language_info": {
   "codemirror_mode": {
    "name": "ipython",
    "version": 3
   },
   "file_extension": ".py",
   "mimetype": "text/x-python",
   "name": "python",
   "nbconvert_exporter": "python",
   "pygments_lexer": "ipython3",
   "version": "3.12.7"
  }
 },
 "nbformat": 4,
 "nbformat_minor": 2
}
